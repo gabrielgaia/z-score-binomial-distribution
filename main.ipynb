{
 "cells": [
  {
   "cell_type": "code",
   "execution_count": null,
   "id": "de08d20e-4fcc-4e69-bb36-eb4c5b6b4b8f",
   "metadata": {},
   "outputs": [],
   "source": [
    "import os\n",
    "import pathlib as p\n",
    "\n",
    "import matplotlib.pyplot as plt\n",
    "import pandas as pd\n",
    "import seaborn as s"
   ]
  },
  {
   "cell_type": "code",
   "execution_count": null,
   "id": "5a82a25d-1fde-4275-b1bf-9a69c876530b",
   "metadata": {},
   "outputs": [],
   "source": [
    "HOME_PATH = p.Path(os.getcwd())\n",
    "DATA_PATH = HOME_PATH.joinpath('data')"
   ]
  },
  {
   "cell_type": "markdown",
   "id": "0a12297f-8f1a-4209-ad49-5c9586edd5c1",
   "metadata": {},
   "source": [
    "## _Dataset_\n",
    "\n",
    "O _Dataset_ utilizado é o ___Breast Cancer Wisconsin (Diagnostic) Data Set___, com informações de imagens digitalizadas de tumores em seios.\n",
    "\n",
    "As _features_ presentes no conjunto de dados são as medidas e descrições dessas massas, levando a identificação sobre o tumor ser benigno ou maligno.\n",
    "\n",
    "O _dataset_ pode ser encontrado no [Kaggle](https://www.kaggle.com/datasets/uciml/breast-cancer-wisconsin-data)."
   ]
  },
  {
   "cell_type": "code",
   "execution_count": null,
   "id": "81e1e9ec-ab97-4c58-b472-1a1ab55cd9cf",
   "metadata": {},
   "outputs": [],
   "source": [
    "data_file_path = DATA_PATH.joinpath('data.csv')\n",
    "\n",
    "data = pd.read_csv(data_file_path)"
   ]
  },
  {
   "cell_type": "code",
   "execution_count": null,
   "id": "286cad53-f4d5-48cf-86f8-4cdf0a794f87",
   "metadata": {},
   "outputs": [],
   "source": [
    "data.info()"
   ]
  },
  {
   "cell_type": "code",
   "execution_count": null,
   "id": "ddc60d58-2e0c-452e-b398-834ff020139c",
   "metadata": {},
   "outputs": [],
   "source": [
    "data.head()"
   ]
  },
  {
   "cell_type": "code",
   "execution_count": null,
   "id": "20950bc2-f4b0-4324-8d05-02283319b9f4",
   "metadata": {},
   "outputs": [],
   "source": [
    "# Remapeia os labels de classificação\n",
    "data['diagnosis'] = data['diagnosis'].map({'B': 0, 'M': 1})\n",
    "\n",
    "# Separa os casos negativos e positivos\n",
    "negative = data[data['diagnosis'] == 0]\n",
    "positive = data[data['diagnosis'] == 1]"
   ]
  },
  {
   "cell_type": "markdown",
   "id": "ab13c13f-ab03-45d6-b5cb-d2fc7a62e410",
   "metadata": {},
   "source": [
    "## Análise de Frequência sobre _Features_\n",
    "\n",
    "Nesta seção, serão realizadas comparações entre _features_ para casos positivos e negativos, buscando identificar fatores comuns nas classificações possíveis.\n",
    "\n",
    "Serão gerados histogramas com 15 e 30 _bins_ para análise."
   ]
  },
  {
   "cell_type": "code",
   "execution_count": null,
   "id": "18eeef19-4096-4153-8188-5089eea50ee7",
   "metadata": {},
   "outputs": [],
   "source": [
    "# Função que gera o histograma comparando as features nas duas classes possíveis\n",
    "def plot_feature_histogram_between_two_classes(data_class_1, data_class_2, feature_name, feature_label, label_class_1, label_class_2, bins, alpha: float = 0.6, color_class_1: str = 'red', color_class_2: str = 'blue', kde: bool = True):\n",
    "    s.histplot(data_class_1[feature_name], bins=bins, color=color_class_1, alpha=alpha, label=label_class_1, kde=True)\n",
    "    s.histplot(data_class_2[feature_name], bins=bins, color=color_class_2, alpha=alpha, label=label_class_2, kde=True)\n",
    "    plt.title(f'Histograma de {feature_label}')\n",
    "    plt.xlabel(feature_label)\n",
    "    plt.ylabel('Frequência')\n",
    "    plt.legend()\n",
    "    plt.tight_layout()\n",
    "    plt.show()"
   ]
  },
  {
   "cell_type": "markdown",
   "id": "9173ec8f-be1b-44c2-9903-70611d77a99f",
   "metadata": {},
   "source": [
    "### Primeira _Feature_\n",
    "\n",
    "A primeira análise é sobre a _feature_ ___radius_mean___, a qual representa a média das distâncias do centro do tumor até suas extremidades."
   ]
  },
  {
   "cell_type": "code",
   "execution_count": null,
   "id": "a8d1e692-b9b5-4f0e-bfa9-038eacb3f6b4",
   "metadata": {},
   "outputs": [],
   "source": [
    "feature_name = 'radius_mean'\n",
    "feature_label = 'Média de Raio'\n",
    "label_class_1 = 'Negativo'\n",
    "label_class_2 = 'Positivo'\n",
    "\n",
    "bins = 15\n",
    "plot_feature_histogram_between_two_classes(negative, positive, feature_name, feature_label, label_class_1, label_class_2, bins)\n",
    "\n",
    "bins = 30\n",
    "plot_feature_histogram_between_two_classes(negative, positive, feature_name, feature_label, label_class_1, label_class_2, bins)"
   ]
  },
  {
   "cell_type": "markdown",
   "id": "c27e4973-7ca7-4dc7-a032-dd035f8b66ba",
   "metadata": {},
   "source": [
    "É possível ver que, apesar de ocorrer alguma sobreposição nos histogramas, há uma grande quantidade de casos positivos que estão em valores bem acima do valor máximo de um caso negativo.\n",
    "\n",
    "Assim, pode-se afirmar que há importância na análise deste _feature_ em um projeto de aprendizado de máquina pois há boa distinção entre as classificações realizadas sobre os valores dispostos no gráfico.\n",
    "\n",
    "Além disso, a análise com diferentes quantidade de _bins_ mostra as nuâncias e detalhes de cada distribuição, apesar de a curva continuar a mesma. Assim, o primeiro gráfico é válido para uma análise inicial, enquanto o segundo é muito importante para confirmar a tendência descrita nos parágrafos anteriores."
   ]
  },
  {
   "cell_type": "markdown",
   "id": "6c509769-79d5-4a6f-8e5f-9bdab26e6659",
   "metadata": {},
   "source": [
    "### Segunda _Feature_\n",
    "\n",
    "A segunda análise é sobre a _feature_ ___smoothness mean___, a qual representa a média da suavidade dos raios do contorno das células tumorais."
   ]
  },
  {
   "cell_type": "code",
   "execution_count": null,
   "id": "fb6921d9-cb34-4854-a3fd-d2c9647b4b72",
   "metadata": {},
   "outputs": [],
   "source": [
    "feature_name = 'smoothness_mean'\n",
    "feature_label = 'Média de Suavidade de Contorno'\n",
    "label_class_1 = 'Negativo'\n",
    "label_class_2 = 'Positivo'\n",
    "\n",
    "bins = 15\n",
    "plot_feature_histogram_between_two_classes(negative, positive, feature_name, feature_label, label_class_1, label_class_2, bins)\n",
    "\n",
    "bins = 30\n",
    "plot_feature_histogram_between_two_classes(negative, positive, feature_name, feature_label, label_class_1, label_class_2, bins)"
   ]
  },
  {
   "cell_type": "markdown",
   "id": "5aa82707-c0b7-4bd7-9b86-5c007011d770",
   "metadata": {},
   "source": [
    "Na segunda _feature_, percebe-se que a sobreposição dos gráficos é bem maior, dificultando a precisão em afirmar que um determinado valor nessa _feature_ pode levar a uma classificação positiva ou negativa - comportamento diferente da primeira _feature_ analisada.\n",
    "\n",
    "No mais, a análise sobre duas diferentes quantidades de _bins_ segue a mesma, replicando a explicação feita anteriormente."
   ]
  }
 ],
 "metadata": {
  "kernelspec": {
   "display_name": "Python 3 (ipykernel)",
   "language": "python",
   "name": "python3"
  },
  "language_info": {
   "codemirror_mode": {
    "name": "ipython",
    "version": 3
   },
   "file_extension": ".py",
   "mimetype": "text/x-python",
   "name": "python",
   "nbconvert_exporter": "python",
   "pygments_lexer": "ipython3",
   "version": "3.13.3"
  }
 },
 "nbformat": 4,
 "nbformat_minor": 5
}
