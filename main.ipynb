{
 "cells": [
  {
   "cell_type": "code",
   "execution_count": null,
   "id": "de08d20e-4fcc-4e69-bb36-eb4c5b6b4b8f",
   "metadata": {},
   "outputs": [],
   "source": [
    "import os\n",
    "import pathlib as p\n",
    "\n",
    "import matplotlib.pyplot as plt\n",
    "import pandas as pd\n",
    "import seaborn as s"
   ]
  },
  {
   "cell_type": "code",
   "execution_count": null,
   "id": "5a82a25d-1fde-4275-b1bf-9a69c876530b",
   "metadata": {},
   "outputs": [],
   "source": [
    "HOME_PATH = p.Path(os.getcwd())\n",
    "DATA_PATH = HOME_PATH.joinpath('data')"
   ]
  },
  {
   "cell_type": "code",
   "execution_count": null,
   "id": "81e1e9ec-ab97-4c58-b472-1a1ab55cd9cf",
   "metadata": {},
   "outputs": [],
   "source": [
    "data_file_path = DATA_PATH.joinpath('data.csv')\n",
    "\n",
    "data = pd.read_csv(data_file_path)"
   ]
  },
  {
   "cell_type": "code",
   "execution_count": null,
   "id": "286cad53-f4d5-48cf-86f8-4cdf0a794f87",
   "metadata": {},
   "outputs": [],
   "source": [
    "data.info()"
   ]
  },
  {
   "cell_type": "code",
   "execution_count": null,
   "id": "ddc60d58-2e0c-452e-b398-834ff020139c",
   "metadata": {},
   "outputs": [],
   "source": [
    "data.head()"
   ]
  },
  {
   "cell_type": "code",
   "execution_count": null,
   "id": "9771a924-b55a-48cf-9915-0e890f63886d",
   "metadata": {},
   "outputs": [],
   "source": [
    "# Separates data based on classification\n",
    "negative = data[data['diagnosis'] == 0]\n",
    "positive = data[data['diagnosis'] == 1]"
   ]
  },
  {
   "cell_type": "code",
   "execution_count": null,
   "id": "20950bc2-f4b0-4324-8d05-02283319b9f4",
   "metadata": {},
   "outputs": [],
   "source": [
    "# Remaps classification labels\n",
    "data['diagnosis'] = data['diagnosis'].map({'B': 0, 'M': 1})"
   ]
  }
 ],
 "metadata": {
  "kernelspec": {
   "display_name": "Python 3 (ipykernel)",
   "language": "python",
   "name": "python3"
  },
  "language_info": {
   "codemirror_mode": {
    "name": "ipython",
    "version": 3
   },
   "file_extension": ".py",
   "mimetype": "text/x-python",
   "name": "python",
   "nbconvert_exporter": "python",
   "pygments_lexer": "ipython3",
   "version": "3.13.3"
  }
 },
 "nbformat": 4,
 "nbformat_minor": 5
}
